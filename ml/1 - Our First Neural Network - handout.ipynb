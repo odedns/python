{
 "cells": [
  {
   "cell_type": "markdown",
   "metadata": {},
   "source": [
    "## Our first Neural Network"
   ]
  },
  {
   "cell_type": "code",
   "execution_count": 3,
   "metadata": {
    "collapsed": true
   },
   "outputs": [],
   "source": [
    "import numpy as np\n",
    "import warnings; warnings.filterwarnings('ignore')\n",
    "import matplotlib.pyplot as plt\n",
    "%matplotlib inline"
   ]
  },
  {
   "cell_type": "code",
   "execution_count": 4,
   "metadata": {},
   "outputs": [],
   "source": [
    "from tensorflow.keras import models, layers, utils, optimizers, losses, metrics"
   ]
  },
  {
   "cell_type": "markdown",
   "metadata": {},
   "source": [
    "### Data"
   ]
  },
  {
   "cell_type": "markdown",
   "metadata": {},
   "source": [
    "We start with a task we are familiar with -- classifying grayscale images of handwritten digits into 10 classes (0 to 9). We will use the MNIST dataset which includes 60,000 training images and 10,000 test \n",
    "images, each of size 28x28 pixels."
   ]
  },
  {
   "cell_type": "markdown",
   "metadata": {},
   "source": [
    "**Loading the data**"
   ]
  },
  {
   "cell_type": "code",
   "execution_count": 5,
   "metadata": {},
   "outputs": [
    {
     "name": "stdout",
     "output_type": "stream",
     "text": [
      "Downloading data from https://storage.googleapis.com/tensorflow/tf-keras-datasets/mnist.npz\n",
      "11493376/11490434 [==============================] - 12s 1us/step\n"
     ]
    }
   ],
   "source": [
    "from tensorflow.keras.datasets import mnist\n",
    "(Xtrain, Ytrain), (Xtest, Ytest) = mnist.load_data()"
   ]
  },
  {
   "cell_type": "markdown",
   "metadata": {},
   "source": [
    "Let's take a look at the data"
   ]
  },
  {
   "cell_type": "code",
   "execution_count": 6,
   "metadata": {},
   "outputs": [
    {
     "name": "stdout",
     "output_type": "stream",
     "text": [
      "train data size is  (60000, 28, 28)\n",
      "test  data size is  (10000, 28, 28)\n",
      "max, min valuse in the train data are  0, 255\n"
     ]
    }
   ],
   "source": [
    "# shape\n",
    "print('train data size is ', Xtrain.shape)\n",
    "print('test  data size is ', Xtest.shape)\n",
    "\n",
    "# max/min vals\n",
    "print('max, min valuse in the train data are ', str(Xtrain.min()) + ', ' + str(Xtrain.max()))"
   ]
  },
  {
   "cell_type": "markdown",
   "metadata": {},
   "source": [
    "Label values"
   ]
  },
  {
   "cell_type": "code",
   "execution_count": 7,
   "metadata": {},
   "outputs": [
    {
     "name": "stdout",
     "output_type": "stream",
     "text": [
      "The labels in the data are [0 1 2 3 4 5 6 7 8 9]\n",
      "\n"
     ]
    }
   ],
   "source": [
    "print('The labels in the data are ' + str(np.unique(Ytrain)) + '\\n')"
   ]
  },
  {
   "cell_type": "markdown",
   "metadata": {},
   "source": [
    "Label distribution"
   ]
  },
  {
   "cell_type": "code",
   "execution_count": 8,
   "metadata": {},
   "outputs": [
    {
     "name": "stdout",
     "output_type": "stream",
     "text": [
      "label 0 appears 5923 times in the training set, and 980 times in the test set\n",
      "label 1 appears 6742 times in the training set, and 1135 times in the test set\n",
      "label 2 appears 5958 times in the training set, and 1032 times in the test set\n",
      "label 3 appears 6131 times in the training set, and 1010 times in the test set\n",
      "label 4 appears 5842 times in the training set, and 982 times in the test set\n",
      "label 5 appears 5421 times in the training set, and 892 times in the test set\n",
      "label 6 appears 5918 times in the training set, and 958 times in the test set\n",
      "label 7 appears 6265 times in the training set, and 1028 times in the test set\n",
      "label 8 appears 5851 times in the training set, and 974 times in the test set\n",
      "label 9 appears 5949 times in the training set, and 1009 times in the test set\n"
     ]
    }
   ],
   "source": [
    "[print('label ' + str(u) + ' appears ' + str(len(np.where(Ytrain==u)[0])) +' times in the training set, and ' + str(len(np.where(Ytest==u)[0])) +' times in the test set') for u in np.unique(Ytrain)];"
   ]
  },
  {
   "cell_type": "markdown",
   "metadata": {},
   "source": [
    "Plotting some samples of the data"
   ]
  },
  {
   "cell_type": "code",
   "execution_count": 9,
   "metadata": {},
   "outputs": [
    {
     "data": {
      "image/png": "[encoded data removed]",
      "text/plain": [
       "<matplotlib.figure.Figure at 0x7f8e163ee6a0>"
      ]
     },
     "metadata": {},
     "output_type": "display_data"
    }
   ],
   "source": [
    "fig, axes = plt.subplots(3, 8, figsize=(18, 7), subplot_kw={'xticks':[], 'yticks':[]}, gridspec_kw=dict(hspace=0.3, wspace=0.1))\n",
    "for n, ax in enumerate(axes.flat):\n",
    "    ax.imshow(Xtrain[n], cmap='gist_yarg')"
   ]
  },
  {
   "cell_type": "markdown",
   "metadata": {},
   "source": [
    "**Data preparation**"
   ]
  },
  {
   "cell_type": "markdown",
   "metadata": {},
   "source": [
    "We reshape the data, and rescale it so that all its values are in the `[0, 1]` interval."
   ]
  },
  {
   "cell_type": "code",
   "execution_count": 10,
   "metadata": {
    "collapsed": true
   },
   "outputs": [],
   "source": [
    "Xtrain = Xtrain.reshape((60000, 784))/255.0\n",
    "Xtest = Xtest.reshape((10000, 784))/255.0"
   ]
  },
  {
   "cell_type": "markdown",
   "metadata": {},
   "source": [
    "We One-Hot encode the labels as categorical (we'll discuss it later)"
   ]
  },
  {
   "cell_type": "code",
   "execution_count": 11,
   "metadata": {
    "collapsed": true
   },
   "outputs": [],
   "source": [
    "def OneHot(labels, dim= 10):\n",
    "    OneHotLabels = np.zeros((len(labels), dim),dtype=int)\n",
    "    for n, label in enumerate(labels):\n",
    "        OneHotLabels[n, label] = 1  \n",
    "    return OneHotLabels"
   ]
  },
  {
   "cell_type": "code",
   "execution_count": 12,
   "metadata": {
    "collapsed": true
   },
   "outputs": [],
   "source": [
    "Ytrain_1hot = OneHot(Ytrain)\n",
    "Ytest_1hot  = OneHot(Ytest)"
   ]
  },
  {
   "cell_type": "markdown",
   "metadata": {},
   "source": [
    "### Training a network"
   ]
  },
  {
   "cell_type": "markdown",
   "metadata": {},
   "source": [
    "**Network architecture**"
   ]
  },
  {
   "cell_type": "markdown",
   "metadata": {},
   "source": [
    "Defining our neural network"
   ]
  },
  {
   "cell_type": "code",
   "execution_count": 13,
   "metadata": {},
   "outputs": [
    {
     "name": "stdout",
     "output_type": "stream",
     "text": [
      "WARNING:tensorflow:From /home/oded/anaconda3/lib/python3.5/site-packages/tensorflow/python/ops/resource_variable_ops.py:435: colocate_with (from tensorflow.python.framework.ops) is deprecated and will be removed in a future version.\n",
      "Instructions for updating:\n",
      "Colocations handled automatically by placer.\n"
     ]
    }
   ],
   "source": [
    "# select a model \n",
    "network = models.Sequential()\n",
    "\n",
    "# add a single (hidden) fully connected layer\n",
    "Layer1Activation = 'relu'\n",
    "network.add(layers.Dense(16, activation=Layer1Activation, input_shape=(28 * 28,)))\n",
    "\n",
    "# add an output layer\n",
    "Layer2Activation = 'softmax'\n",
    "network.add(layers.Dense(10, activation=Layer2Activation))"
   ]
  },
  {
   "cell_type": "code",
   "execution_count": 14,
   "metadata": {},
   "outputs": [
    {
     "name": "stdout",
     "output_type": "stream",
     "text": [
      "_________________________________________________________________\n",
      "Layer (type)                 Output Shape              Param #   \n",
      "=================================================================\n",
      "dense (Dense)                (None, 16)                12560     \n",
      "_________________________________________________________________\n",
      "dense_1 (Dense)              (None, 10)                170       \n",
      "=================================================================\n",
      "Total params: 12,730\n",
      "Trainable params: 12,730\n",
      "Non-trainable params: 0\n",
      "_________________________________________________________________\n"
     ]
    }
   ],
   "source": [
    "network.summary()"
   ]
  },
  {
   "cell_type": "markdown",
   "metadata": {},
   "source": [
    "**Network training**"
   ]
  },
  {
   "cell_type": "code",
   "execution_count": 15,
   "metadata": {},
   "outputs": [
    {
     "name": "stdout",
     "output_type": "stream",
     "text": [
      "WARNING:tensorflow:From /home/oded/anaconda3/lib/python3.5/site-packages/tensorflow/python/ops/math_ops.py:3066: to_int32 (from tensorflow.python.ops.math_ops) is deprecated and will be removed in a future version.\n",
      "Instructions for updating:\n",
      "Use tf.cast instead.\n",
      "Epoch 1/10\n",
      "60000/60000 [==============================] - 1s 25us/sample - loss: 0.8067 - acc: 0.7952\n",
      "Epoch 2/10\n",
      "60000/60000 [==============================] - 1s 22us/sample - loss: 0.3454 - acc: 0.9032\n",
      "Epoch 3/10\n",
      "60000/60000 [==============================] - 1s 21us/sample - loss: 0.2941 - acc: 0.9167\n",
      "Epoch 4/10\n",
      "60000/60000 [==============================] - 1s 21us/sample - loss: 0.2671 - acc: 0.9236\n",
      "Epoch 5/10\n",
      "60000/60000 [==============================] - 1s 21us/sample - loss: 0.2486 - acc: 0.9289\n",
      "Epoch 6/10\n",
      "60000/60000 [==============================] - 1s 21us/sample - loss: 0.2350 - acc: 0.9323\n",
      "Epoch 7/10\n",
      "60000/60000 [==============================] - 1s 22us/sample - loss: 0.2242 - acc: 0.9361\n",
      "Epoch 8/10\n",
      "60000/60000 [==============================] - 1s 20us/sample - loss: 0.2158 - acc: 0.9376\n",
      "Epoch 9/10\n",
      "60000/60000 [==============================] - 1s 21us/sample - loss: 0.2090 - acc: 0.9402\n",
      "Epoch 10/10\n",
      "60000/60000 [==============================] - 1s 21us/sample - loss: 0.2029 - acc: 0.9418\n"
     ]
    }
   ],
   "source": [
    "# select an optimizer\n",
    "rms = optimizers.RMSprop(lr=0.0005, rho=.9, decay=0)\n",
    "\n",
    "# select a loss\n",
    "loss = losses.categorical_crossentropy\n",
    "\n",
    "# select metrics to monitor during training\n",
    "metrics = ['accuracy']\n",
    "\n",
    "# compile the network\n",
    "network.compile(optimizer=rms, loss=loss, metrics=metrics)\n",
    "\n",
    "# train the network\n",
    "network.fit(Xtrain, Ytrain_1hot, epochs=10, batch_size=128);"
   ]
  },
  {
   "cell_type": "markdown",
   "metadata": {},
   "source": [
    "**Performance evaluation**"
   ]
  },
  {
   "cell_type": "code",
   "execution_count": 16,
   "metadata": {},
   "outputs": [
    {
     "name": "stdout",
     "output_type": "stream",
     "text": [
      "train accuracy = 0.94238335\n"
     ]
    }
   ],
   "source": [
    "_, accuracy = network.evaluate(Xtrain, Ytrain_1hot, verbose=0)\n",
    "print('train accuracy =', accuracy)"
   ]
  },
  {
   "cell_type": "code",
   "execution_count": 17,
   "metadata": {},
   "outputs": [
    {
     "name": "stdout",
     "output_type": "stream",
     "text": [
      "test accuracy = 0.9386\n"
     ]
    }
   ],
   "source": [
    "_, accuracy  = network.evaluate(Xtest, Ytest_1hot, verbose=0)\n",
    "print('test accuracy =', accuracy)"
   ]
  },
  {
   "cell_type": "markdown",
   "metadata": {},
   "source": [
    "#### Exercise"
   ]
  },
  {
   "cell_type": "markdown",
   "metadata": {},
   "source": [
    "1. Repeat the above for the following number of neurons in the hidden layer: 64/128/512. Discuss the effect of this change. \n",
    "2. Train the above network with 128 units in the hidden layer for 5 epochs and for 20 epochs. Discuss the effect of this change."
   ]
  },
  {
   "cell_type": "markdown",
   "metadata": {},
   "source": [
    "#### Solution"
   ]
  },
  {
   "cell_type": "code",
   "execution_count": null,
   "metadata": {
    "collapsed": true
   },
   "outputs": [],
   "source": []
  }
 ],
 "metadata": {
  "kernelspec": {
   "display_name": "Python [default]",
   "language": "python",
   "name": "python3"
  },
  "language_info": {
   "codemirror_mode": {
    "name": "ipython",
    "version": 3
   },
   "file_extension": ".py",
   "mimetype": "text/x-python",
   "name": "python",
   "nbconvert_exporter": "python",
   "pygments_lexer": "ipython3",
   "version": "3.5.3"
  }
 },
 "nbformat": 4,
 "nbformat_minor": 2
}
