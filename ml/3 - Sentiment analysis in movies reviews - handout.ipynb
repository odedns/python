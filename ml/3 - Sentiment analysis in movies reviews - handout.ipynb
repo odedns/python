{
 "cells": [
  {
   "cell_type": "markdown",
   "metadata": {},
   "source": [
    "# Classifying movie reviews"
   ]
  },
  {
   "cell_type": "markdown",
   "metadata": {},
   "source": [
    "In this notebook we build a neural network to classify movie reviews as `positive` or `negative` based only on the words used in each review."
   ]
  },
  {
   "cell_type": "code",
   "execution_count": 1,
   "metadata": {},
   "outputs": [],
   "source": [
    "import warnings; warnings.filterwarnings('ignore')\n",
    "import numpy as np\n",
    "import matplotlib.pyplot as plt\n",
    "%matplotlib inline"
   ]
  },
  {
   "cell_type": "code",
   "execution_count": 2,
   "metadata": {},
   "outputs": [],
   "source": [
    "from tensorflow.keras import models, layers, utils, optimizers, losses, metrics"
   ]
  },
  {
   "cell_type": "markdown",
   "metadata": {},
   "source": [
    "#### Data "
   ]
  },
  {
   "cell_type": "markdown",
   "metadata": {},
   "source": [
    "IMDB dataset includes 50K movie reviews, half of which are used for training and the rest for testing."
   ]
  },
  {
   "cell_type": "code",
   "execution_count": 3,
   "metadata": {},
   "outputs": [],
   "source": [
    "from tensorflow.keras.datasets import imdb"
   ]
  },
  {
   "cell_type": "code",
   "execution_count": 4,
   "metadata": {},
   "outputs": [],
   "source": [
    "(Xtrain, Ytrain), (Xtest, Ytest) = imdb.load_data()"
   ]
  },
  {
   "cell_type": "markdown",
   "metadata": {},
   "source": [
    "Each movie review is represented by an ordered list of integers, each of which represents a specific word. "
   ]
  },
  {
   "cell_type": "code",
   "execution_count": 5,
   "metadata": {
    "collapsed": true
   },
   "outputs": [
    {
     "name": "stdout",
     "output_type": "stream",
     "text": [
      "[1, 14, 22, 16, 43, 530, 973, 1622, 1385, 65, 458, 4468, 66, 3941, 4, 173, 36, 256, 5, 25, 100, 43, 838, 112, 50, 670, 22665, 9, 35, 480, 284, 5, 150, 4, 172, 112, 167, 21631, 336, 385, 39, 4, 172, 4536, 1111, 17, 546, 38, 13, 447, 4, 192, 50, 16, 6, 147, 2025, 19, 14, 22, 4, 1920, 4613, 469, 4, 22, 71, 87, 12, 16, 43, 530, 38, 76, 15, 13, 1247, 4, 22, 17, 515, 17, 12, 16, 626, 18, 19193, 5, 62, 386, 12, 8, 316, 8, 106, 5, 4, 2223, 5244, 16, 480, 66, 3785, 33, 4, 130, 12, 16, 38, 619, 5, 25, 124, 51, 36, 135, 48, 25, 1415, 33, 6, 22, 12, 215, 28, 77, 52, 5, 14, 407, 16, 82, 10311, 8, 4, 107, 117, 5952, 15, 256, 4, 31050, 7, 3766, 5, 723, 36, 71, 43, 530, 476, 26, 400, 317, 46, 7, 4, 12118, 1029, 13, 104, 88, 4, 381, 15, 297, 98, 32, 2071, 56, 26, 141, 6, 194, 7486, 18, 4, 226, 22, 21, 134, 476, 26, 480, 5, 144, 30, 5535, 18, 51, 36, 28, 224, 92, 25, 104, 4, 226, 65, 16, 38, 1334, 88, 12, 16, 283, 5, 16, 4472, 113, 103, 32, 15, 16, 5345, 19, 178, 32]\n"
     ]
    }
   ],
   "source": [
    "print(Xtrain[0])"
   ]
  },
  {
   "cell_type": "markdown",
   "metadata": {},
   "source": [
    "Let's take a look at some properties of the data"
   ]
  },
  {
   "cell_type": "code",
   "execution_count": 6,
   "metadata": {},
   "outputs": [
    {
     "name": "stdout",
     "output_type": "stream",
     "text": [
      "train data size is  (25000,)\n",
      "test  data size is  (25000,)\n",
      "max, min valuse in the train data are 1, 88586\n"
     ]
    }
   ],
   "source": [
    "# shape\n",
    "print('train data size is ', Xtrain.shape)\n",
    "print('test  data size is ', Xtest.shape)\n",
    "\n",
    "# max/min vals\n",
    "max_val = max([max(review) for review in Xtrain])\n",
    "min_val = min([min(review) for review in Xtrain])\n",
    "print('max, min valuse in the train data are '+ str(min_val) + ', ' + str(max_val))"
   ]
  },
  {
   "cell_type": "markdown",
   "metadata": {},
   "source": [
    "If we want to read the original text of any specific review, we can do that as follows"
   ]
  },
  {
   "cell_type": "code",
   "execution_count": 7,
   "metadata": {},
   "outputs": [
    {
     "data": {
      "text/plain": [
       "\"strummer's hippie past was a revelation but overall this felt like crashing a wake campfire stories work best around the intimacy of a campfire there were just too many semi boring old friends anecdotes and too much filler stock footage i love the clash and joe for not reuniting and selling their songs until now fu mick jones but this doc left me wanting to relate more using campfire storytellers without proper explanation of who is telling the anecdote alienates the viewer to some extent they should have been interviewed on their own even using strummer's 'radio dj voice' did little to glue the film together and can someone explain all the flags flying behind the campfire scenes after the awesome filth and the fury i hoped temple could deliver a joe strummer doc deserves better\""
      ]
     },
     "execution_count": 7,
     "metadata": {},
     "output_type": "execute_result"
    }
   ],
   "source": [
    "def getReviewText(Xtrain,reviewIndex):\n",
    "    # word_index is a one-to-one mapping of words to integers\n",
    "    word_index = imdb.get_word_index()\n",
    "    # reverse_word_index is a new one-to-one mapping of integers to words, reversing word_index's mapping \n",
    "    reverse_word_index = dict([(value, key) for (key, value) in word_index.items()])\n",
    "    # We decode the review; note that our indices were offset by 3\n",
    "    # because 0, 1 and 2 are reserved indices for \"padding\", \"start of sequence\", and \"unknown\".\n",
    "    decoded_review = ' '.join([reverse_word_index.get(i - 3, '?') for i in Xtrain[reviewIndex][1:]])\n",
    "    return decoded_review\n",
    "\n",
    "# get the text of a specific review\n",
    "getReviewText(Xtrain,1111)\n",
    "getReviewText(Xtrain,5555)"
   ]
  },
  {
   "cell_type": "markdown",
   "metadata": {},
   "source": [
    "For simplicity, in our experiment we will only use the 5K most frequently used words in the data"
   ]
  },
  {
   "cell_type": "code",
   "execution_count": 8,
   "metadata": {},
   "outputs": [],
   "source": [
    "Num_Words = 5000\n",
    "(Xtrain, Ytrain), (Xtest, Ytest) = imdb.load_data(num_words=Num_Words)"
   ]
  },
  {
   "cell_type": "markdown",
   "metadata": {},
   "source": [
    "Let's take a look at some properties of the data now"
   ]
  },
  {
   "cell_type": "code",
   "execution_count": 9,
   "metadata": {},
   "outputs": [
    {
     "name": "stdout",
     "output_type": "stream",
     "text": [
      "train data size is  (25000,)\n",
      "test  data size is  (25000,)\n",
      "max, min valuse in the train data are 1, 4999\n"
     ]
    }
   ],
   "source": [
    "# shape\n",
    "print('train data size is ', Xtrain.shape)\n",
    "print('test  data size is ', Xtest.shape)\n",
    "\n",
    "# max/min vals\n",
    "max_val = max([max(review) for review in Xtrain])\n",
    "min_val = min([min(review) for review in Xtrain])\n",
    "print('max, min valuse in the train data are '+ str(min_val) + ', ' + str(max_val))"
   ]
  },
  {
   "cell_type": "markdown",
   "metadata": {},
   "source": [
    "#### Data preparation"
   ]
  },
  {
   "cell_type": "markdown",
   "metadata": {},
   "source": [
    "Our network expects all samples to share the same dimension of representation, namely to be represented by vectors (tensors) of equal size. We'll do that by one-hot encoding the data."
   ]
  },
  {
   "cell_type": "code",
   "execution_count": 10,
   "metadata": {},
   "outputs": [],
   "source": [
    "def OneHot(reviews,dim = 5000):\n",
    "    representation = np.zeros((len(reviews), dim),dtype=float)\n",
    "    for n, review in enumerate(reviews):\n",
    "        representation[n, review] = 1  \n",
    "    return representation"
   ]
  },
  {
   "cell_type": "code",
   "execution_count": 11,
   "metadata": {},
   "outputs": [],
   "source": [
    "# One-hot encoding of our data\n",
    "Xtrain = OneHot(Xtrain,dim=Num_Words)\n",
    "Xtest  = OneHot(Xtest,dim=Num_Words)"
   ]
  },
  {
   "cell_type": "markdown",
   "metadata": {},
   "source": [
    "Here's what our data look like now:"
   ]
  },
  {
   "cell_type": "code",
   "execution_count": 12,
   "metadata": {},
   "outputs": [
    {
     "name": "stdout",
     "output_type": "stream",
     "text": [
      "train data size is  (25000, 5000)\n",
      "test  data size is  (25000, 5000)\n",
      "max, min valuse in the train data are 0.0, 1.0\n"
     ]
    }
   ],
   "source": [
    "# shape\n",
    "print('train data size is ', Xtrain.shape)\n",
    "print('test  data size is ', Xtest.shape)\n",
    "\n",
    "# max/min vals\n",
    "max_val = max([max(review) for review in Xtrain])\n",
    "min_val = min([min(review) for review in Xtrain])\n",
    "print('max, min valuse in the train data are '+ str(min_val) + ', ' + str(max_val))"
   ]
  },
  {
   "cell_type": "markdown",
   "metadata": {},
   "source": [
    "And here is how a single sample looks like"
   ]
  },
  {
   "cell_type": "code",
   "execution_count": 13,
   "metadata": {},
   "outputs": [
    {
     "name": "stdout",
     "output_type": "stream",
     "text": [
      "[0. 1. 1. ... 0. 0. 0.]\n"
     ]
    }
   ],
   "source": [
    "print(Xtrain[0])"
   ]
  },
  {
   "cell_type": "markdown",
   "metadata": {},
   "source": [
    "### Training a network"
   ]
  },
  {
   "cell_type": "markdown",
   "metadata": {},
   "source": [
    "**Network architecture**"
   ]
  },
  {
   "cell_type": "code",
   "execution_count": 14,
   "metadata": {},
   "outputs": [],
   "source": [
    "model = models.Sequential()\n",
    "model.add(layers.Dense(16, activation='relu', input_shape=(Num_Words,)))\n",
    "model.add(layers.Dense(16, activation='relu'))\n",
    "model.add(layers.Dense(1, activation='sigmoid'))"
   ]
  },
  {
   "cell_type": "markdown",
   "metadata": {},
   "source": [
    "**Network training**"
   ]
  },
  {
   "cell_type": "markdown",
   "metadata": {},
   "source": [
    "We will use the `rmsprop` optimizer, and for our binary classification we will use the `binary_crossentropy` loss. We will also monitor `accuracy` during training."
   ]
  },
  {
   "cell_type": "code",
   "execution_count": 15,
   "metadata": {},
   "outputs": [],
   "source": [
    "model.compile(optimizer='rmsprop', loss='binary_crossentropy', metrics=['accuracy'])"
   ]
  },
  {
   "cell_type": "markdown",
   "metadata": {},
   "source": [
    "#### Using validation data during training"
   ]
  },
  {
   "cell_type": "markdown",
   "metadata": {},
   "source": [
    "We can monitor, during training, how the performance of our network changes both on the data used for training, and also on data we put aside and only use to validate the results we are getting. To do that we keep part of our original training set and create a `validation dataset`."
   ]
  },
  {
   "cell_type": "code",
   "execution_count": 16,
   "metadata": {},
   "outputs": [],
   "source": [
    "Xvalidation = Xtrain[:10000]\n",
    "Xtrain      = Xtrain[10000:]\n",
    "\n",
    "Yvalidation = Ytrain[:10000]\n",
    "Ytrain      = Ytrain[10000:]"
   ]
  },
  {
   "cell_type": "markdown",
   "metadata": {},
   "source": [
    "Next, we now train our model for 20 epochs in mini-batches of 512 samples, and monitor the loss and the accuracy on both the the training and validation data. "
   ]
  },
  {
   "cell_type": "code",
   "execution_count": 17,
   "metadata": {},
   "outputs": [
    {
     "name": "stdout",
     "output_type": "stream",
     "text": [
      "Train on 15000 samples, validate on 10000 samples\n",
      "Epoch 1/20\n",
      "15000/15000 [==============================] - 1s 86us/step - loss: 0.5240 - acc: 0.7853 - val_loss: 0.4064 - val_acc: 0.8565\n",
      "Epoch 2/20\n",
      "15000/15000 [==============================] - 1s 71us/step - loss: 0.3327 - acc: 0.8847 - val_loss: 0.3167 - val_acc: 0.8797\n",
      "Epoch 3/20\n",
      "15000/15000 [==============================] - 1s 68us/step - loss: 0.2566 - acc: 0.9076 - val_loss: 0.2907 - val_acc: 0.8861\n",
      "Epoch 4/20\n",
      "15000/15000 [==============================] - 1s 74us/step - loss: 0.2160 - acc: 0.9227 - val_loss: 0.2865 - val_acc: 0.8822\n",
      "Epoch 5/20\n",
      "15000/15000 [==============================] - 1s 73us/step - loss: 0.1897 - acc: 0.9310 - val_loss: 0.2852 - val_acc: 0.8811\n",
      "Epoch 6/20\n",
      "15000/15000 [==============================] - 1s 69us/step - loss: 0.1735 - acc: 0.9371 - val_loss: 0.2963 - val_acc: 0.8815\n",
      "Epoch 7/20\n",
      "15000/15000 [==============================] - 1s 69us/step - loss: 0.1563 - acc: 0.9440 - val_loss: 0.3030 - val_acc: 0.8790\n",
      "Epoch 8/20\n",
      "15000/15000 [==============================] - 1s 70us/step - loss: 0.1431 - acc: 0.9481 - val_loss: 0.3156 - val_acc: 0.8753\n",
      "Epoch 9/20\n",
      "15000/15000 [==============================] - 1s 69us/step - loss: 0.1326 - acc: 0.9516 - val_loss: 0.3730 - val_acc: 0.8626\n",
      "Epoch 10/20\n",
      "15000/15000 [==============================] - 1s 70us/step - loss: 0.1245 - acc: 0.9564 - val_loss: 0.3774 - val_acc: 0.8686\n",
      "Epoch 11/20\n",
      "15000/15000 [==============================] - 1s 70us/step - loss: 0.1133 - acc: 0.9596 - val_loss: 0.3716 - val_acc: 0.8698\n",
      "Epoch 12/20\n",
      "15000/15000 [==============================] - 1s 70us/step - loss: 0.1072 - acc: 0.9617 - val_loss: 0.3991 - val_acc: 0.8608\n",
      "Epoch 13/20\n",
      "15000/15000 [==============================] - 1s 68us/step - loss: 0.0970 - acc: 0.9663 - val_loss: 0.4285 - val_acc: 0.8658\n",
      "Epoch 14/20\n",
      "15000/15000 [==============================] - 1s 69us/step - loss: 0.0935 - acc: 0.9678 - val_loss: 0.4092 - val_acc: 0.8664\n",
      "Epoch 15/20\n",
      "15000/15000 [==============================] - 1s 69us/step - loss: 0.0828 - acc: 0.9725 - val_loss: 0.5048 - val_acc: 0.8568\n",
      "Epoch 16/20\n",
      "15000/15000 [==============================] - 1s 70us/step - loss: 0.0803 - acc: 0.9717 - val_loss: 0.4480 - val_acc: 0.8633\n",
      "Epoch 17/20\n",
      "15000/15000 [==============================] - 1s 70us/step - loss: 0.0725 - acc: 0.9750 - val_loss: 0.4728 - val_acc: 0.8636\n",
      "Epoch 18/20\n",
      "15000/15000 [==============================] - 1s 96us/step - loss: 0.0677 - acc: 0.9779 - val_loss: 0.4843 - val_acc: 0.8607\n",
      "Epoch 19/20\n",
      "15000/15000 [==============================] - 2s 105us/step - loss: 0.0627 - acc: 0.9807 - val_loss: 0.5325 - val_acc: 0.8606\n",
      "Epoch 20/20\n",
      "15000/15000 [==============================] - 1s 80us/step - loss: 0.0587 - acc: 0.9812 - val_loss: 0.5370 - val_acc: 0.8551\n"
     ]
    }
   ],
   "source": [
    "model.fit(Xtrain,Ytrain, epochs=20, batch_size=512, validation_data=(Xvalidation, Yvalidation));"
   ]
  },
  {
   "cell_type": "markdown",
   "metadata": {},
   "source": [
    "We can access the monitored values during training through the `history` atribute of the trained model. Let's take a look at it:"
   ]
  },
  {
   "cell_type": "code",
   "execution_count": 18,
   "metadata": {},
   "outputs": [
    {
     "data": {
      "text/plain": [
       "dict_keys(['val_loss', 'val_acc', 'loss', 'acc'])"
      ]
     },
     "execution_count": 18,
     "metadata": {},
     "output_type": "execute_result"
    }
   ],
   "source": [
    "history = model.history\n",
    "history_dict = history.history\n",
    "history_dict.keys()"
   ]
  },
  {
   "cell_type": "markdown",
   "metadata": {},
   "source": [
    "It contains 4 entries: one per metric that was being monitored, each for training dataset and for validation dataset. "
   ]
  },
  {
   "cell_type": "code",
   "execution_count": 19,
   "metadata": {
    "scrolled": true
   },
   "outputs": [
    {
     "data": {
      "image/png": "[encoded data removed]",
      "text/plain": [
       "<Figure size 720x432 with 1 Axes>"
      ]
     },
     "metadata": {},
     "output_type": "display_data"
    }
   ],
   "source": [
    "accuracy = history.history['acc']\n",
    "validation_accuracy = history.history['val_acc']\n",
    "loss = history.history['loss']\n",
    "validation_loss = history.history['val_loss']\n",
    "epochs = np.array(model.history.epoch)+1\n",
    "\n",
    "plt.figure(figsize=[10,6])\n",
    "plt.plot(epochs, loss, 'b.-', label='Train loss')\n",
    "plt.plot(epochs, validation_loss, 'g.-', label='Validation loss')\n",
    "plt.plot(epochs, accuracy, 'b*-', label='Train accuracy')\n",
    "plt.plot(epochs, validation_accuracy, 'g*-', label='Validation accuracy')\n",
    "plt.title('Training and validation loss')\n",
    "plt.xlabel('Epochs')\n",
    "plt.ylabel('Loss')\n",
    "plt.xticks(epochs)\n",
    "plt.legend();"
   ]
  },
  {
   "cell_type": "markdown",
   "metadata": {},
   "source": [
    "Let's train a new network from scratch for five epochs, then evaluate it on our test data:"
   ]
  },
  {
   "cell_type": "code",
   "execution_count": 20,
   "metadata": {},
   "outputs": [
    {
     "name": "stdout",
     "output_type": "stream",
     "text": [
      "Epoch 1/5\n",
      "15000/15000 [==============================] - 1s 64us/step - loss: 0.5487 - acc: 0.7813\n",
      "Epoch 2/5\n",
      "15000/15000 [==============================] - 1s 50us/step - loss: 0.3581 - acc: 0.8856\n",
      "Epoch 3/5\n",
      "15000/15000 [==============================] - 1s 48us/step - loss: 0.2772 - acc: 0.9073\n",
      "Epoch 4/5\n",
      "15000/15000 [==============================] - 1s 49us/step - loss: 0.2304 - acc: 0.9203\n",
      "Epoch 5/5\n",
      "15000/15000 [==============================] - 1s 48us/step - loss: 0.2011 - acc: 0.9301\n"
     ]
    }
   ],
   "source": [
    "model = models.Sequential()\n",
    "model.add(layers.Dense(16, activation='relu', input_shape=(Num_Words,)))\n",
    "model.add(layers.Dense(16, activation='relu'))\n",
    "model.add(layers.Dense(1, activation='sigmoid'))\n",
    "\n",
    "model.compile(optimizer='rmsprop', loss='binary_crossentropy',  metrics=['accuracy'])\n",
    "\n",
    "model.fit(Xtrain, Ytrain, epochs=5, batch_size=512);"
   ]
  },
  {
   "cell_type": "code",
   "execution_count": 21,
   "metadata": {},
   "outputs": [
    {
     "name": "stdout",
     "output_type": "stream",
     "text": [
      "Train accuracy      =  0.9442\n",
      "Validation accuracy =  0.8857\n",
      "Test accuracy       =  0.8786\n"
     ]
    }
   ],
   "source": [
    "print('Train accuracy      = ', model.evaluate(Xtrain, Ytrain, verbose=0)[1])\n",
    "print('Validation accuracy = ', model.evaluate(Xvalidation, Yvalidation, verbose=0)[1])\n",
    "print('Test accuracy       = ', model.evaluate(Xtest, Ytest, verbose=0)[1])"
   ]
  },
  {
   "cell_type": "markdown",
   "metadata": {},
   "source": [
    "#### Using the trained network to classify new reviews"
   ]
  },
  {
   "cell_type": "code",
   "execution_count": 22,
   "metadata": {},
   "outputs": [],
   "source": [
    "YtestHat = model.predict(Xtest)"
   ]
  },
  {
   "cell_type": "markdown",
   "metadata": {},
   "source": [
    "Just to get an idea of what the network produces, we can plot how its output is distributed (note that this is a histogram of probabilities)"
   ]
  },
  {
   "cell_type": "code",
   "execution_count": 23,
   "metadata": {},
   "outputs": [
    {
     "data": {
      "image/png": "[encoded data removed]",
      "text/plain": [
       "<Figure size 432x288 with 1 Axes>"
      ]
     },
     "metadata": {},
     "output_type": "display_data"
    }
   ],
   "source": [
    "plt.hist(YtestHat,bins=100)\n",
    "plt.xlabel('Probability of a review having label 1');"
   ]
  },
  {
   "cell_type": "markdown",
   "metadata": {},
   "source": [
    "#### Exercise\n",
    "\n",
    "Repeat the above twice, for the following settings \n",
    "1. using the `mse` loss function instead of `binary_crossentropy`\n",
    "2. using the `tanh` activation instead of `relu`"
   ]
  },
  {
   "cell_type": "markdown",
   "metadata": {},
   "source": [
    "**Solution**"
   ]
  },
  {
   "cell_type": "code",
   "execution_count": 24,
   "metadata": {},
   "outputs": [],
   "source": [
    "# 1\n"
   ]
  },
  {
   "cell_type": "code",
   "execution_count": 25,
   "metadata": {},
   "outputs": [],
   "source": [
    "# 2\n"
   ]
  },
  {
   "cell_type": "markdown",
   "metadata": {},
   "source": []
  }
 ],
 "metadata": {
  "kernelspec": {
   "display_name": "Python 3",
   "language": "python",
   "name": "python3"
  },
  "language_info": {
   "codemirror_mode": {
    "name": "ipython",
    "version": 3
   },
   "file_extension": ".py",
   "mimetype": "text/x-python",
   "name": "python",
   "nbconvert_exporter": "python",
   "pygments_lexer": "ipython3",
   "version": "3.6.5"
  }
 },
 "nbformat": 4,
 "nbformat_minor": 2
}
