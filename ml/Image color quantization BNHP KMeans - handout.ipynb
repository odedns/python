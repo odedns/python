{
 "cells": [
  {
   "cell_type": "markdown",
   "metadata": {},
   "source": [
    "# Image color quantization BNHP KMeans\n",
    "We'll compress an image by applying our implementation of Kmeans to its pixels to find a small number of RGB combinations which, if we replace each pixel by the nearest of these combination, we'll still have a good image quality."
   ]
  },
  {
   "cell_type": "code",
   "execution_count": null,
   "metadata": {},
   "outputs": [],
   "source": [
    "%matplotlib inline\n",
    "import numpy as np\n",
    "import matplotlib.pyplot as plt\n",
    "from scipy.spatial.distance import cdist as distance\n",
    "from mpl_toolkits.mplot3d import Axes3D \n",
    "np.random.seed(10)"
   ]
  },
  {
   "cell_type": "code",
   "execution_count": null,
   "metadata": {},
   "outputs": [],
   "source": [
    "def BNHP_KmeansWithDistortion(X, K, means=[], NumIterations = 20):\n",
    "    # Init: for simplicity, we'll take the first K data points to initialize the cluster means\n",
    "    # You can try replacing it with other initialization, and see what happens\n",
    "    if len(means)==0:\n",
    "        means = X[:K]\n",
    "    # The code below implements the core logic of the Kmeans algorithm\n",
    "    for _ in range(NumIterations):\n",
    "        # line 1: compute the distance between each sample and every cluster center\n",
    "        distances = distance(X,means)\n",
    "        # line 2: set the samples of group k to be all the points closest to Ck\n",
    "        labels = distances.argmin(axis=1)\n",
    "        # line 3: for each k set Ck to be the mean of all points in group k \n",
    "        means = [(X[labels==i].mean(axis=0)) for i in range(len(means))]\n",
    "        \n",
    "    distortion = [distance(X[labels==k],means[k].reshape(1,X.shape[1])).sum() for k in range(K)]\n",
    "    return means, labels, distortion"
   ]
  },
  {
   "cell_type": "code",
   "execution_count": null,
   "metadata": {},
   "outputs": [],
   "source": [
    "# load the image\n",
    "img = plt.imread(\"elephant.jpg\")\n",
    "\n",
    "# divide by 255 so that the data is between 0 and 1, for plt.imshow\n",
    "img = np.array(img) / 255\n",
    "\n",
    "# plot it\n",
    "plt.imshow(img);"
   ]
  },
  {
   "cell_type": "code",
   "execution_count": null,
   "metadata": {},
   "outputs": [],
   "source": [
    "# reshape the image into a 2D numpy array\n",
    "width, height, channels = img.shape\n",
    "X = np.reshape(img, (width * height, channels))# note that pixel in the image is now a row in X"
   ]
  },
  {
   "cell_type": "code",
   "execution_count": null,
   "metadata": {},
   "outputs": [],
   "source": [
    "# plot some of the pixels in 3D\n",
    "fig = plt.figure()\n",
    "ax = fig.add_subplot(111, projection='3d')\n",
    "\n",
    "ind = np.random.permutation(X.shape[0])[:1000]# NOTE - we randomly choose 1000 pixels to draw\n",
    "ax.scatter(X[ind,0],X[ind,1],X[ind,2], c=X[ind])\n",
    "\n",
    "ax.set_xlabel('R')\n",
    "ax.set_ylabel('G')\n",
    "ax.set_zlabel('B');"
   ]
  },
  {
   "cell_type": "code",
   "execution_count": null,
   "metadata": {},
   "outputs": [],
   "source": [
    "# lets cluster the 3D pixels into K=4 groups \n",
    "K = 4\n",
    "\n",
    "# we randomly choos K pixels as our initial guess of the centroids\n",
    "uX = np.unique(X,axis=0)\n",
    "ndx = np.random.permutation(uX.shape[0])\n",
    "RGBinit = uX[ndx[:K]]\n",
    "\n",
    "# apply Kmeans to the data\n",
    "means, labels, distortions = BNHP_KmeansWithDistortion(X, K, means = RGBinit,NumIterations=100)"
   ]
  },
  {
   "cell_type": "markdown",
   "metadata": {},
   "source": [
    "To plot the image after replacing each pixel by the centroid of it's cluster, we need to reshape the 2D data `X` into the original 3D image with shape `width x height x channels`"
   ]
  },
  {
   "cell_type": "code",
   "execution_count": null,
   "metadata": {},
   "outputs": [],
   "source": [
    "# restore image from pixels and image dimensions\n",
    "def Pixels2Image(means, labels, width, height):\n",
    "    image = np.zeros((width, height, channels))\n",
    "    label_idx = 0\n",
    "    for i in range(width):\n",
    "        for j in range(height):\n",
    "            image[i][j] = means[labels[label_idx]]\n",
    "            label_idx += 1\n",
    "    return image\n",
    "\n",
    "# plot original image\n",
    "plt.figure()\n",
    "plt.axis('off')\n",
    "plt.title('Original')\n",
    "plt.imshow(img)\n",
    "\n",
    "# and also the compressed image\n",
    "plt.figure()\n",
    "plt.axis('off')\n",
    "plt.title('K='+str(K)+' colors')\n",
    "plt.imshow(Pixels2Image(means, labels, width, height));"
   ]
  },
  {
   "cell_type": "markdown",
   "metadata": {},
   "source": [
    "## Learning to cluster using a sample of the data"
   ]
  },
  {
   "cell_type": "markdown",
   "metadata": {},
   "source": [
    "Images can have many pixels, so we might want to learn clusters from a subset of pixels, and then cluster the entire data based on these centroids.\n",
    "**Exercise:** complete the missing line below"
   ]
  },
  {
   "cell_type": "code",
   "execution_count": null,
   "metadata": {
    "scrolled": false
   },
   "outputs": [],
   "source": [
    "# train on sample of pixels, then label all pixels according to their min distance to centroids, then restore the shape and display compressed image\n",
    "#\n",
    "\n",
    "# first, randomly choose some pixels to train on \n",
    "ind = np.random.permutation(X.shape[0])\n",
    "Xtrain = X[ind[:1000]]\n",
    "\n",
    "# init\n",
    "#uX = np.unique(Xtrain,axis=0)\n",
    "#ndx = np.random.permutation(uX.shape[0])\n",
    "K = np.array([2,3,4,8,32])\n",
    "RGBinit = uX[ndx[:K.max()]]\n",
    " \n",
    "# plot original image\n",
    "plt.figure()\n",
    "plt.axis('off')\n",
    "plt.title('Original')\n",
    "plt.imshow(img)\n",
    "\n",
    "for k in K:\n",
    "    # kmeans on sample of pixels\n",
    "    means, labels, distortions = BNHP_KmeansWithDistortion(Xtrain, k, means = RGBinit[:k],NumIterations=200)\n",
    "    # associating every pixel with one of the clusters\n",
    "\n",
    "    ###### COMPLETE HERE THE LABELING OF ALL POINTS, INCLUDING THOSE WHICH WERE NOT PART OF THE CLUSTERED DATA#####\n",
    "    labels = \n",
    "    ###############################################################################################################\n",
    "\n",
    "    # dsplaying the compressed image\n",
    "    plt.figure()\n",
    "    plt.axis('off')\n",
    "    plt.title('K='+str(k)+' colors')\n",
    "    plt.imshow(Pixels2Image(means, labels, width, height))"
   ]
  },
  {
   "cell_type": "markdown",
   "metadata": {},
   "source": [
    "**Exercise:** \n",
    "\n",
    "1. Repeat the compression procedure above with each of the following images \n",
    "    - rgb.jpg\n",
    "    - BNHP.jpg\n",
    "    - Apples.jpg\n",
    "2. What can be said, for each image, regarding \n",
    "    - the 3D representation of its pixels\n",
    "    - the number of colors required for a compressed image which is reasonably similar to the original image\n",
    "2. Download an image from the internet and repeat the process"
   ]
  },
  {
   "cell_type": "code",
   "execution_count": null,
   "metadata": {},
   "outputs": [],
   "source": [
    "# load the image\n",
    "img = plt.imread(\"Apples.jpg\")\n",
    "\n",
    "# divide by 255 so that the data is between 0 and 1, for plt.imshow\n",
    "img = np.array(img) / 255\n",
    "\n",
    "# reshape the image into a 2D numpy array\n",
    "width, height, channels = img.shape\n",
    "X = np.reshape(img, (width * height, channels))# note that pixel in the image is now a row in X\n",
    "\n",
    "\n",
    "# train on sample of pixels, then label all pixels according to their min distance to centroids, then restore the shape and display compressed image\n",
    "#============\n",
    "\n",
    "# first, randomly choose some pixels to train on \n",
    "np.random.seed(10)\n",
    "ind = np.random.permutation(X.shape[0])\n",
    "Xtrain = X[ind[:1000]]\n",
    "\n",
    "# init\n",
    "uX = np.unique(Xtrain,axis=0)\n",
    "ndx = np.random.permutation(uX.shape[0])\n",
    "K = np.array([2,3,4,8,32])\n",
    "RGBinit = uX[ndx[:K.max()]]\n",
    " \n",
    "# plot original image\n",
    "plt.figure()\n",
    "plt.axis('off')\n",
    "plt.title('Original')\n",
    "plt.imshow(img)\n",
    "\n",
    "# plot some of the pixels in 3D\n",
    "fig = plt.figure()\n",
    "ax = fig.add_subplot(111, projection='3d')\n",
    "\n",
    "ind = np.random.permutation(X.shape[0])[:1000]# NOTE - we randomly choose 1000 pixels to draw\n",
    "ax.scatter(X[ind,0],X[ind,1],X[ind,2], c=X[ind])\n",
    "\n",
    "ax.set_xlabel('R')\n",
    "ax.set_ylabel('G')\n",
    "ax.set_zlabel('B');\n",
    "\n",
    "\n",
    "for k in K:\n",
    "    # kmeans on sample of pixels\n",
    "    means, labels, distortions = BNHP_KmeansWithDistortion(Xtrain, k, means = RGBinit[:k],NumIterations=200)\n",
    "    # associating every pixel with one of the clusters\n",
    "    labels = ### COPY THE LINE YOU HAVE COMPLETED ABOVE\n",
    "\n",
    "    # dsplaying the compressed image\n",
    "    plt.figure()\n",
    "    plt.axis('off')\n",
    "    plt.title('K='+str(k)+' colors')\n",
    "    plt.imshow(Pixels2Image(means, labels, width, height))"
   ]
  },
  {
   "cell_type": "code",
   "execution_count": null,
   "metadata": {},
   "outputs": [],
   "source": []
  }
 ],
 "metadata": {
  "kernelspec": {
   "display_name": "Python 3",
   "language": "python",
   "name": "python3"
  },
  "language_info": {
   "codemirror_mode": {
    "name": "ipython",
    "version": 3
   },
   "file_extension": ".py",
   "mimetype": "text/x-python",
   "name": "python",
   "nbconvert_exporter": "python",
   "pygments_lexer": "ipython3",
   "version": "3.6.5"
  }
 },
 "nbformat": 4,
 "nbformat_minor": 2
}
